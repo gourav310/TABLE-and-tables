{
 "cells": [
  {
   "cell_type": "markdown",
   "metadata": {},
   "source": [
    "# solution for TABLE \n",
    "#### Gourav Khurana "
   ]
  },
  {
   "cell_type": "code",
   "execution_count": 13,
   "metadata": {},
   "outputs": [],
   "source": [
    "import pandas as pd \n",
    "import numpy as np\n",
    "import matplotlib.pyplot as plt\n",
    "import warnings\n",
    "warnings.simplefilter(action='ignore', category=FutureWarning)\n",
    "warnings.simplefilter(action='ignore', category=UserWarning)"
   ]
  },
  {
   "cell_type": "code",
   "execution_count": 3,
   "metadata": {},
   "outputs": [],
   "source": [
    "#read file as data frame \n",
    "df=pd.read_excel(\"D:/Py Programs/FreeLancer/TABLE.xlsx\")"
   ]
  },
  {
   "cell_type": "code",
   "execution_count": 27,
   "metadata": {},
   "outputs": [
    {
     "data": {
      "text/html": [
       "<div>\n",
       "<style scoped>\n",
       "    .dataframe tbody tr th:only-of-type {\n",
       "        vertical-align: middle;\n",
       "    }\n",
       "\n",
       "    .dataframe tbody tr th {\n",
       "        vertical-align: top;\n",
       "    }\n",
       "\n",
       "    .dataframe thead th {\n",
       "        text-align: right;\n",
       "    }\n",
       "</style>\n",
       "<table border=\"1\" class=\"dataframe\">\n",
       "  <thead>\n",
       "    <tr style=\"text-align: right;\">\n",
       "      <th></th>\n",
       "      <th>reference</th>\n",
       "      <th>flyash</th>\n",
       "      <th>ggbs</th>\n",
       "      <th>CA</th>\n",
       "      <th>Fine aggregate</th>\n",
       "      <th>NaOH</th>\n",
       "      <th>Na2SiO3</th>\n",
       "      <th>Added water</th>\n",
       "      <th>superplasticizer</th>\n",
       "      <th>alkaline ratio</th>\n",
       "      <th>molarity</th>\n",
       "      <th>timecure</th>\n",
       "      <th>temp cure</th>\n",
       "      <th>3day</th>\n",
       "      <th>7day</th>\n",
       "      <th>28day</th>\n",
       "    </tr>\n",
       "  </thead>\n",
       "  <tbody>\n",
       "    <tr>\n",
       "      <th>0</th>\n",
       "      <td>1</td>\n",
       "      <td>360.0</td>\n",
       "      <td>40.0</td>\n",
       "      <td>1209.0</td>\n",
       "      <td>651.0</td>\n",
       "      <td>45.7</td>\n",
       "      <td>114.3</td>\n",
       "      <td>0.0</td>\n",
       "      <td>0.0</td>\n",
       "      <td>2.5</td>\n",
       "      <td>12</td>\n",
       "      <td>900</td>\n",
       "      <td>27</td>\n",
       "      <td>16.615385</td>\n",
       "      <td>27.0</td>\n",
       "      <td>40.0</td>\n",
       "    </tr>\n",
       "    <tr>\n",
       "      <th>1</th>\n",
       "      <td>1</td>\n",
       "      <td>320.0</td>\n",
       "      <td>80.0</td>\n",
       "      <td>1209.0</td>\n",
       "      <td>651.0</td>\n",
       "      <td>45.7</td>\n",
       "      <td>114.3</td>\n",
       "      <td>0.0</td>\n",
       "      <td>0.0</td>\n",
       "      <td>2.5</td>\n",
       "      <td>12</td>\n",
       "      <td>900</td>\n",
       "      <td>27</td>\n",
       "      <td>19.076923</td>\n",
       "      <td>31.0</td>\n",
       "      <td>47.0</td>\n",
       "    </tr>\n",
       "    <tr>\n",
       "      <th>2</th>\n",
       "      <td>1</td>\n",
       "      <td>360.0</td>\n",
       "      <td>40.0</td>\n",
       "      <td>1209.0</td>\n",
       "      <td>651.0</td>\n",
       "      <td>64.0</td>\n",
       "      <td>96.0</td>\n",
       "      <td>0.0</td>\n",
       "      <td>0.0</td>\n",
       "      <td>1.5</td>\n",
       "      <td>12</td>\n",
       "      <td>900</td>\n",
       "      <td>27</td>\n",
       "      <td>15.384615</td>\n",
       "      <td>25.0</td>\n",
       "      <td>43.0</td>\n",
       "    </tr>\n",
       "    <tr>\n",
       "      <th>3</th>\n",
       "      <td>1</td>\n",
       "      <td>320.0</td>\n",
       "      <td>80.0</td>\n",
       "      <td>1209.0</td>\n",
       "      <td>651.0</td>\n",
       "      <td>64.0</td>\n",
       "      <td>96.0</td>\n",
       "      <td>0.0</td>\n",
       "      <td>0.0</td>\n",
       "      <td>1.5</td>\n",
       "      <td>12</td>\n",
       "      <td>900</td>\n",
       "      <td>27</td>\n",
       "      <td>17.846154</td>\n",
       "      <td>29.0</td>\n",
       "      <td>54.0</td>\n",
       "    </tr>\n",
       "    <tr>\n",
       "      <th>4</th>\n",
       "      <td>1</td>\n",
       "      <td>400.0</td>\n",
       "      <td>0.0</td>\n",
       "      <td>1209.0</td>\n",
       "      <td>658.0</td>\n",
       "      <td>40.0</td>\n",
       "      <td>100.0</td>\n",
       "      <td>0.0</td>\n",
       "      <td>6.0</td>\n",
       "      <td>2.5</td>\n",
       "      <td>12</td>\n",
       "      <td>900</td>\n",
       "      <td>27</td>\n",
       "      <td>6.769231</td>\n",
       "      <td>11.0</td>\n",
       "      <td>25.0</td>\n",
       "    </tr>\n",
       "  </tbody>\n",
       "</table>\n",
       "</div>"
      ],
      "text/plain": [
       "   reference  flyash   ggbs      CA  Fine aggregate  NaOH  Na2SiO3  \\\n",
       "0          1    360.0  40.0  1209.0           651.0  45.7    114.3   \n",
       "1          1    320.0  80.0  1209.0           651.0  45.7    114.3   \n",
       "2          1    360.0  40.0  1209.0           651.0  64.0     96.0   \n",
       "3          1    320.0  80.0  1209.0           651.0  64.0     96.0   \n",
       "4          1    400.0   0.0  1209.0           658.0  40.0    100.0   \n",
       "\n",
       "   Added water  superplasticizer  alkaline ratio  molarity  timecure  \\\n",
       "0          0.0               0.0             2.5        12       900   \n",
       "1          0.0               0.0             2.5        12       900   \n",
       "2          0.0               0.0             1.5        12       900   \n",
       "3          0.0               0.0             1.5        12       900   \n",
       "4          0.0               6.0             2.5        12       900   \n",
       "\n",
       "   temp cure       3day  7day  28day  \n",
       "0         27  16.615385  27.0   40.0  \n",
       "1         27  19.076923  31.0   47.0  \n",
       "2         27  15.384615  25.0   43.0  \n",
       "3         27  17.846154  29.0   54.0  \n",
       "4         27   6.769231  11.0   25.0  "
      ]
     },
     "execution_count": 27,
     "metadata": {},
     "output_type": "execute_result"
    }
   ],
   "source": [
    "df.head()"
   ]
  },
  {
   "cell_type": "code",
   "execution_count": 9,
   "metadata": {},
   "outputs": [
    {
     "data": {
      "text/plain": [
       "reference             int64\n",
       "flyash              float64\n",
       "ggbs                float64\n",
       "CA                  float64\n",
       "Fine aggregate      float64\n",
       "NaOH                float64\n",
       "Na2SiO3             float64\n",
       "Added water         float64\n",
       "superplasticizer    float64\n",
       "alkaline ratio      float64\n",
       "molarity              int64\n",
       "timecure              int64\n",
       "temp cure             int64\n",
       "3day                float64\n",
       "7day                float64\n",
       "28day               float64\n",
       "dtype: object"
      ]
     },
     "execution_count": 9,
     "metadata": {},
     "output_type": "execute_result"
    }
   ],
   "source": [
    "#check for datatypes \n",
    "df.dtypes\n",
    "#every var is categorical variable "
   ]
  },
  {
   "cell_type": "code",
   "execution_count": 11,
   "metadata": {},
   "outputs": [
    {
     "data": {
      "text/plain": [
       "reference           0\n",
       "flyash              0\n",
       "ggbs                0\n",
       "CA                  0\n",
       "Fine aggregate      0\n",
       "NaOH                0\n",
       "Na2SiO3             0\n",
       "Added water         0\n",
       "superplasticizer    0\n",
       "alkaline ratio      0\n",
       "molarity            0\n",
       "timecure            0\n",
       "temp cure           0\n",
       "3day                0\n",
       "7day                0\n",
       "28day               0\n",
       "dtype: int64"
      ]
     },
     "execution_count": 11,
     "metadata": {},
     "output_type": "execute_result"
    }
   ],
   "source": [
    "#check for mssing values \n",
    "df.isnull().sum() \n",
    "#no missing vlues "
   ]
  },
  {
   "cell_type": "code",
   "execution_count": 15,
   "metadata": {},
   "outputs": [
    {
     "data": {
      "text/plain": [
       "(376, 16)"
      ]
     },
     "execution_count": 15,
     "metadata": {},
     "output_type": "execute_result"
    }
   ],
   "source": [
    "#shape of df \n",
    "df.shape"
   ]
  },
  {
   "cell_type": "code",
   "execution_count": 19,
   "metadata": {},
   "outputs": [
    {
     "data": {
      "text/plain": [
       "<matplotlib.axes._subplots.AxesSubplot at 0xe0e58d0>"
      ]
     },
     "execution_count": 19,
     "metadata": {},
     "output_type": "execute_result"
    },
    {
     "data": {
      "image/png": "[encoded data removed]",
      "text/plain": [
       "<Figure size 432x288 with 1 Axes>"
      ]
     },
     "metadata": {
      "needs_background": "light"
     },
     "output_type": "display_data"
    }
   ],
   "source": [
    "#univariate analysis for \n",
    "df['reference'].hist(bins=50)"
   ]
  },
  {
   "cell_type": "code",
   "execution_count": 26,
   "metadata": {},
   "outputs": [
    {
     "data": {
      "text/plain": [
       "0    28\n",
       "dtype: int64"
      ]
     },
     "execution_count": 26,
     "metadata": {},
     "output_type": "execute_result"
    }
   ],
   "source": [
    "df['reference'].mode() #we can see 28 is most repeated"
   ]
  },
  {
   "cell_type": "code",
   "execution_count": 28,
   "metadata": {},
   "outputs": [
    {
     "data": {
      "text/plain": [
       "<matplotlib.axes._subplots.AxesSubplot at 0xe1f33f0>"
      ]
     },
     "execution_count": 28,
     "metadata": {},
     "output_type": "execute_result"
    },
    {
     "data": {
      "image/png": "[encoded data removed]",
      "text/plain": [
       "<Figure size 432x288 with 1 Axes>"
      ]
     },
     "metadata": {
      "needs_background": "light"
     },
     "output_type": "display_data"
    }
   ],
   "source": [
    "#Univariate analysis of alkaline raio \n",
    "df['alkaline ratio'].hist()"
   ]
  },
  {
   "cell_type": "markdown",
   "metadata": {},
   "source": [
    "As i was told to only predict the mode i will not go much deeper in analysis and will go straight to model prediction "
   ]
  },
  {
   "cell_type": "markdown",
   "metadata": {},
   "source": [
    "# Model prediction "
   ]
  },
  {
   "cell_type": "code",
   "execution_count": 31,
   "metadata": {},
   "outputs": [],
   "source": [
    "import sklearn\n",
    "#we font have any categorical var so no need to use dummies "
   ]
  },
  {
   "cell_type": "code",
   "execution_count": 32,
   "metadata": {},
   "outputs": [],
   "source": [
    "x=df.drop(['28day','7day','3day'],axis=1)\n",
    "y1=df['3day']\n",
    "y2=df['7day']\n",
    "y3=df['28day']"
   ]
  },
  {
   "cell_type": "code",
   "execution_count": 34,
   "metadata": {},
   "outputs": [],
   "source": [
    "from sklearn.preprocessing import StandardScaler\n",
    "mms=StandardScaler()"
   ]
  },
  {
   "cell_type": "markdown",
   "metadata": {},
   "source": [
    "#### predict 3day "
   ]
  },
  {
   "cell_type": "code",
   "execution_count": 37,
   "metadata": {},
   "outputs": [
    {
     "data": {
      "text/plain": [
       "array([[-4.08316474,  1.47081428, -1.55989721, ...,  1.83021133,\n",
       "         1.10658122, -0.96035031],\n",
       "       [-4.08316474,  0.99317262, -1.09273789, ...,  1.83021133,\n",
       "         1.10658122, -0.96035031],\n",
       "       [-4.08316474,  1.47081428, -1.55989721, ...,  1.83021133,\n",
       "         1.10658122, -0.96035031],\n",
       "       ...,\n",
       "       [ 0.48961942, -0.26063673,  0.48392483, ..., -0.31693207,\n",
       "        -0.90144743,  0.97595561],\n",
       "       [ 0.48961942, -0.20093152,  0.54231975, ..., -0.31693207,\n",
       "        -0.90144743,  0.97595561],\n",
       "       [ 0.48961942, -0.14122632,  0.60071466, ..., -0.31693207,\n",
       "        -0.90144743,  0.97595561]])"
      ]
     },
     "execution_count": 37,
     "metadata": {},
     "output_type": "execute_result"
    }
   ],
   "source": [
    "mms.fit_transform(x,y1)"
   ]
  },
  {
   "cell_type": "code",
   "execution_count": 71,
   "metadata": {},
   "outputs": [],
   "source": [
    "from sklearn.model_selection import train_test_split\n",
    "train_x,test_x,train_y1,test_y1=train_test_split(x,y1,random_state=45)"
   ]
  },
  {
   "cell_type": "code",
   "execution_count": 106,
   "metadata": {},
   "outputs": [],
   "source": [
    "from sklearn.ensemble import RandomForestRegressor \n"
   ]
  },
  {
   "cell_type": "code",
   "execution_count": 180,
   "metadata": {},
   "outputs": [
    {
     "data": {
      "text/plain": [
       "RandomForestRegressor(bootstrap=True, ccp_alpha=0.0, criterion='mse',\n",
       "                      max_depth=10, max_features='auto', max_leaf_nodes=None,\n",
       "                      max_samples=None, min_impurity_decrease=0.0,\n",
       "                      min_impurity_split=None, min_samples_leaf=1,\n",
       "                      min_samples_split=2, min_weight_fraction_leaf=0.0,\n",
       "                      n_estimators=100, n_jobs=None, oob_score=False,\n",
       "                      random_state=None, verbose=0, warm_start=False)"
      ]
     },
     "execution_count": 180,
     "metadata": {},
     "output_type": "execute_result"
    }
   ],
   "source": [
    "rfr=RandomForestRegressor(max_depth=10,n_estimators=100)\n",
    "rfr.fit(train_x,train_y1)"
   ]
  },
  {
   "cell_type": "code",
   "execution_count": 181,
   "metadata": {},
   "outputs": [
    {
     "name": "stdout",
     "output_type": "stream",
     "text": [
      "Train score for 3day: 0.9673435841812471\n",
      "test score for 3day: 0.7942420664577567\n"
     ]
    },
    {
     "data": {
      "text/plain": [
       "(None, None)"
      ]
     },
     "execution_count": 181,
     "metadata": {},
     "output_type": "execute_result"
    }
   ],
   "source": [
    "from sklearn.metrics import r2_score\n",
    "pred_train = rfr.predict(train_x)\n",
    "train_score = r2_score(train_y1,pred_train)\n",
    "pred_test = rfr.predict(test_x)\n",
    "valid_score1=r2_score(test_y1,pred_test)\n",
    "print('Train score for 3day:',train_score),print(\"test score for 3day:\",valid_score1)"
   ]
  },
  {
   "cell_type": "markdown",
   "metadata": {},
   "source": [
    "### Better the r-squared better the model so validation score or test score is quite good for 3day"
   ]
  },
  {
   "cell_type": "code",
   "execution_count": 182,
   "metadata": {},
   "outputs": [
    {
     "name": "stdout",
     "output_type": "stream",
     "text": [
      "Training score: 0.1040123872887761\n",
      "Test score: 0.17608897213901736\n"
     ]
    }
   ],
   "source": [
    "\n",
    "\n",
    "#mean sqare log eror \n",
    "from sklearn.metrics import mean_squared_log_error\n",
    "pred_train = rfr.predict(train_x)\n",
    "train_score = np.sqrt(mean_squared_log_error(train_y1,pred_train))\n",
    "\n",
    "pred_test = rfr.predict(test_x)\n",
    "valid_score=np.sqrt(mean_squared_log_error(test_y1,pred_test))\n",
    "\n",
    "print('Training score:', train_score)\n",
    "print('Test score:', valid_score)"
   ]
  },
  {
   "cell_type": "markdown",
   "metadata": {},
   "source": [
    "### lower the value of msle better the model"
   ]
  },
  {
   "cell_type": "markdown",
   "metadata": {},
   "source": [
    "## predict 7day"
   ]
  },
  {
   "cell_type": "code",
   "execution_count": 183,
   "metadata": {},
   "outputs": [
    {
     "data": {
      "text/plain": [
       "RandomForestRegressor(bootstrap=True, ccp_alpha=0.0, criterion='mse',\n",
       "                      max_depth=10, max_features='auto', max_leaf_nodes=None,\n",
       "                      max_samples=None, min_impurity_decrease=0.0,\n",
       "                      min_impurity_split=None, min_samples_leaf=1,\n",
       "                      min_samples_split=2, min_weight_fraction_leaf=0.0,\n",
       "                      n_estimators=100, n_jobs=None, oob_score=False,\n",
       "                      random_state=None, verbose=0, warm_start=False)"
      ]
     },
     "execution_count": 183,
     "metadata": {},
     "output_type": "execute_result"
    }
   ],
   "source": [
    "mms.fit_transform(x,y2)\n",
    "\n",
    "from sklearn.model_selection import train_test_split\n",
    "train_x,test_x,train_y2,test_y2=train_test_split(x,y2,random_state=45)\n",
    "\n",
    "rfr=RandomForestRegressor(max_depth=10,n_estimators=100)\n",
    "rfr.fit(train_x,train_y2)"
   ]
  },
  {
   "cell_type": "code",
   "execution_count": 184,
   "metadata": {},
   "outputs": [
    {
     "name": "stdout",
     "output_type": "stream",
     "text": [
      "Train score for 7day: 0.9707167516957693\n",
      "test score for 7day: 0.8452758183332363\n"
     ]
    },
    {
     "data": {
      "text/plain": [
       "(None, None)"
      ]
     },
     "execution_count": 184,
     "metadata": {},
     "output_type": "execute_result"
    }
   ],
   "source": [
    "#r -squared\n",
    "pred_train = rfr.predict(train_x)\n",
    "train_score = r2_score(train_y2,pred_train)\n",
    "pred_test = rfr.predict(test_x)\n",
    "valid_score2=r2_score(test_y2,pred_test)\n",
    "print('Train score for 7day:',train_score),print(\"test score for 7day:\",valid_score2)"
   ]
  },
  {
   "cell_type": "markdown",
   "metadata": {},
   "source": [
    "#### Better the r2_score  better model"
   ]
  },
  {
   "cell_type": "code",
   "execution_count": 185,
   "metadata": {},
   "outputs": [
    {
     "name": "stdout",
     "output_type": "stream",
     "text": [
      "Training score for 7day: 0.09862794388513015\n",
      "Test score for 7 day: 0.15809936278741504\n"
     ]
    }
   ],
   "source": [
    "from sklearn.metrics import mean_squared_log_error\n",
    "pred_train = rfr.predict(train_x)\n",
    "train_score = np.sqrt(mean_squared_log_error(train_y2,pred_train))\n",
    "\n",
    "pred_test = rfr.predict(test_x)\n",
    "valid_score=np.sqrt(mean_squared_log_error(test_y2,pred_test))\n",
    "\n",
    "print('Training score for 7day:', train_score)\n",
    "print('Test score for 7 day:', valid_score)"
   ]
  },
  {
   "cell_type": "markdown",
   "metadata": {},
   "source": [
    "#### lesser the msle score better the model"
   ]
  },
  {
   "cell_type": "code",
   "execution_count": null,
   "metadata": {},
   "outputs": [],
   "source": []
  },
  {
   "cell_type": "markdown",
   "metadata": {},
   "source": [
    "# Predict for 28 day"
   ]
  },
  {
   "cell_type": "code",
   "execution_count": 186,
   "metadata": {},
   "outputs": [
    {
     "data": {
      "text/plain": [
       "RandomForestRegressor(bootstrap=True, ccp_alpha=0.0, criterion='mse',\n",
       "                      max_depth=10, max_features='auto', max_leaf_nodes=None,\n",
       "                      max_samples=None, min_impurity_decrease=0.0,\n",
       "                      min_impurity_split=None, min_samples_leaf=1,\n",
       "                      min_samples_split=2, min_weight_fraction_leaf=0.0,\n",
       "                      n_estimators=100, n_jobs=None, oob_score=False,\n",
       "                      random_state=None, verbose=0, warm_start=False)"
      ]
     },
     "execution_count": 186,
     "metadata": {},
     "output_type": "execute_result"
    }
   ],
   "source": [
    "mms.fit_transform(x,y3)\n",
    "\n",
    "from sklearn.model_selection import train_test_split\n",
    "train_x,test_x,train_y3,test_y3=train_test_split(x,y3,random_state=45)\n",
    "\n",
    "rfr=RandomForestRegressor(max_depth=10,n_estimators=100)\n",
    "rfr.fit(train_x,train_y3)"
   ]
  },
  {
   "cell_type": "code",
   "execution_count": 187,
   "metadata": {},
   "outputs": [
    {
     "name": "stdout",
     "output_type": "stream",
     "text": [
      "Train score for 28day: 0.9753482843771518\n",
      "test score for 28day: 0.8632133407791703\n"
     ]
    },
    {
     "data": {
      "text/plain": [
       "(None, None)"
      ]
     },
     "execution_count": 187,
     "metadata": {},
     "output_type": "execute_result"
    }
   ],
   "source": [
    "#r -squared\n",
    "pred_train = rfr.predict(train_x)\n",
    "train_score = r2_score(train_y3,pred_train)\n",
    "pred_test = rfr.predict(test_x)\n",
    "valid_score3=r2_score(test_y3,pred_test)\n",
    "print('Train score for 28day:',train_score),print(\"test score for 28day:\",valid_score3)"
   ]
  },
  {
   "cell_type": "markdown",
   "metadata": {},
   "source": [
    "#### Better r2 scoree better model "
   ]
  },
  {
   "cell_type": "code",
   "execution_count": 188,
   "metadata": {},
   "outputs": [
    {
     "name": "stdout",
     "output_type": "stream",
     "text": [
      "Training score for 28 day: 0.09115520296179623\n",
      "Test score for 28 day: 0.14423317323147794\n"
     ]
    }
   ],
   "source": [
    "from sklearn.metrics import mean_squared_log_error\n",
    "pred_train = rfr.predict(train_x)\n",
    "train_score = np.sqrt(mean_squared_log_error(train_y3,pred_train))\n",
    "\n",
    "pred_test = rfr.predict(test_x)\n",
    "valid_score=np.sqrt(mean_squared_log_error(test_y3,pred_test))\n",
    "\n",
    "print('Training score for 28 day:', train_score)\n",
    "print('Test score for 28 day:', valid_score)"
   ]
  },
  {
   "cell_type": "markdown",
   "metadata": {},
   "source": [
    "#### Lower msle better model"
   ]
  },
  {
   "cell_type": "code",
   "execution_count": null,
   "metadata": {},
   "outputs": [],
   "source": []
  },
  {
   "cell_type": "markdown",
   "metadata": {},
   "source": [
    "## lets comapre the score for 3day ,7day,  28day prediction r2_score"
   ]
  },
  {
   "cell_type": "code",
   "execution_count": 237,
   "metadata": {},
   "outputs": [],
   "source": [
    "value=[valid_score1,valid_score2,valid_score3]\n",
    "name=['3day','7day','28day']"
   ]
  },
  {
   "cell_type": "code",
   "execution_count": 238,
   "metadata": {},
   "outputs": [],
   "source": [
    "df2=pd.DataFrame(index=name,data=value)\n"
   ]
  },
  {
   "cell_type": "code",
   "execution_count": 239,
   "metadata": {},
   "outputs": [
    {
     "data": {
      "text/plain": [
       "<matplotlib.axes._subplots.AxesSubplot at 0x14600910>"
      ]
     },
     "execution_count": 239,
     "metadata": {},
     "output_type": "execute_result"
    },
    {
     "data": {
      "image/png": "[encoded data removed]",
      "text/plain": [
       "<Figure size 432x288 with 1 Axes>"
      ]
     },
     "metadata": {
      "needs_background": "light"
     },
     "output_type": "display_data"
    }
   ],
   "source": [
    "df2.plot(kind='bar')\n"
   ]
  },
  {
   "cell_type": "code",
   "execution_count": null,
   "metadata": {},
   "outputs": [],
   "source": []
  }
 ],
 "metadata": {
  "kernelspec": {
   "display_name": "Python 3",
   "language": "python",
   "name": "python3"
  },
  "language_info": {
   "codemirror_mode": {
    "name": "ipython",
    "version": 3
   },
   "file_extension": ".py",
   "mimetype": "text/x-python",
   "name": "python",
   "nbconvert_exporter": "python",
   "pygments_lexer": "ipython3",
   "version": "3.7.3"
  }
 },
 "nbformat": 4,
 "nbformat_minor": 4
}
