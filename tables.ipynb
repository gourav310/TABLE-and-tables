{
 "cells": [
  {
   "cell_type": "markdown",
   "metadata": {},
   "source": [
    "# solution for tables \n",
    "#### Gourav Khurana "
   ]
  },
  {
   "cell_type": "code",
   "execution_count": 1,
   "metadata": {},
   "outputs": [],
   "source": [
    "import pandas as pd \n",
    "import numpy as np\n",
    "import matplotlib.pyplot as plt\n",
    "import warnings\n",
    "warnings.simplefilter(action='ignore', category=FutureWarning)\n",
    "warnings.simplefilter(action='ignore', category=UserWarning)"
   ]
  },
  {
   "cell_type": "code",
   "execution_count": 2,
   "metadata": {},
   "outputs": [],
   "source": [
    "#read file as data frame \n",
    "df=pd.read_excel(\"D:/Py Programs/FreeLancer/tables.xlsx\")"
   ]
  },
  {
   "cell_type": "code",
   "execution_count": 3,
   "metadata": {},
   "outputs": [
    {
     "data": {
      "text/html": [
       "<div>\n",
       "<style scoped>\n",
       "    .dataframe tbody tr th:only-of-type {\n",
       "        vertical-align: middle;\n",
       "    }\n",
       "\n",
       "    .dataframe tbody tr th {\n",
       "        vertical-align: top;\n",
       "    }\n",
       "\n",
       "    .dataframe thead th {\n",
       "        text-align: right;\n",
       "    }\n",
       "</style>\n",
       "<table border=\"1\" class=\"dataframe\">\n",
       "  <thead>\n",
       "    <tr style=\"text-align: right;\">\n",
       "      <th></th>\n",
       "      <th>reference</th>\n",
       "      <th>flyash</th>\n",
       "      <th>ggbs</th>\n",
       "      <th>CA</th>\n",
       "      <th>Fine aggregate</th>\n",
       "      <th>NaOH</th>\n",
       "      <th>Na2SiO3</th>\n",
       "      <th>Added water</th>\n",
       "      <th>superplasticizer</th>\n",
       "      <th>alkaline ratio</th>\n",
       "      <th>molarity</th>\n",
       "      <th>timecure</th>\n",
       "      <th>temp cure</th>\n",
       "      <th>3day</th>\n",
       "      <th>7day</th>\n",
       "      <th>28day</th>\n",
       "    </tr>\n",
       "  </thead>\n",
       "  <tbody>\n",
       "    <tr>\n",
       "      <th>0</th>\n",
       "      <td>1</td>\n",
       "      <td>360.0</td>\n",
       "      <td>40.0</td>\n",
       "      <td>1209.0</td>\n",
       "      <td>651.0</td>\n",
       "      <td>45.7</td>\n",
       "      <td>114.3</td>\n",
       "      <td>0.0</td>\n",
       "      <td>0.0</td>\n",
       "      <td>CR</td>\n",
       "      <td>CM</td>\n",
       "      <td>A</td>\n",
       "      <td>a</td>\n",
       "      <td>16.615385</td>\n",
       "      <td>27.0</td>\n",
       "      <td>40.0</td>\n",
       "    </tr>\n",
       "    <tr>\n",
       "      <th>1</th>\n",
       "      <td>1</td>\n",
       "      <td>320.0</td>\n",
       "      <td>80.0</td>\n",
       "      <td>1209.0</td>\n",
       "      <td>651.0</td>\n",
       "      <td>45.7</td>\n",
       "      <td>114.3</td>\n",
       "      <td>0.0</td>\n",
       "      <td>0.0</td>\n",
       "      <td>CR</td>\n",
       "      <td>CM</td>\n",
       "      <td>A</td>\n",
       "      <td>a</td>\n",
       "      <td>19.076923</td>\n",
       "      <td>31.0</td>\n",
       "      <td>47.0</td>\n",
       "    </tr>\n",
       "    <tr>\n",
       "      <th>2</th>\n",
       "      <td>1</td>\n",
       "      <td>360.0</td>\n",
       "      <td>40.0</td>\n",
       "      <td>1209.0</td>\n",
       "      <td>651.0</td>\n",
       "      <td>64.0</td>\n",
       "      <td>96.0</td>\n",
       "      <td>0.0</td>\n",
       "      <td>0.0</td>\n",
       "      <td>BR</td>\n",
       "      <td>CM</td>\n",
       "      <td>A</td>\n",
       "      <td>a</td>\n",
       "      <td>15.384615</td>\n",
       "      <td>25.0</td>\n",
       "      <td>43.0</td>\n",
       "    </tr>\n",
       "    <tr>\n",
       "      <th>3</th>\n",
       "      <td>1</td>\n",
       "      <td>320.0</td>\n",
       "      <td>80.0</td>\n",
       "      <td>1209.0</td>\n",
       "      <td>651.0</td>\n",
       "      <td>64.0</td>\n",
       "      <td>96.0</td>\n",
       "      <td>0.0</td>\n",
       "      <td>0.0</td>\n",
       "      <td>BR</td>\n",
       "      <td>CM</td>\n",
       "      <td>A</td>\n",
       "      <td>a</td>\n",
       "      <td>17.846154</td>\n",
       "      <td>29.0</td>\n",
       "      <td>54.0</td>\n",
       "    </tr>\n",
       "    <tr>\n",
       "      <th>4</th>\n",
       "      <td>1</td>\n",
       "      <td>400.0</td>\n",
       "      <td>0.0</td>\n",
       "      <td>1209.0</td>\n",
       "      <td>658.0</td>\n",
       "      <td>40.0</td>\n",
       "      <td>100.0</td>\n",
       "      <td>0.0</td>\n",
       "      <td>6.0</td>\n",
       "      <td>CR</td>\n",
       "      <td>CM</td>\n",
       "      <td>A</td>\n",
       "      <td>a</td>\n",
       "      <td>6.769231</td>\n",
       "      <td>11.0</td>\n",
       "      <td>25.0</td>\n",
       "    </tr>\n",
       "  </tbody>\n",
       "</table>\n",
       "</div>"
      ],
      "text/plain": [
       "   reference  flyash   ggbs      CA  Fine aggregate  NaOH  Na2SiO3  \\\n",
       "0          1    360.0  40.0  1209.0           651.0  45.7    114.3   \n",
       "1          1    320.0  80.0  1209.0           651.0  45.7    114.3   \n",
       "2          1    360.0  40.0  1209.0           651.0  64.0     96.0   \n",
       "3          1    320.0  80.0  1209.0           651.0  64.0     96.0   \n",
       "4          1    400.0   0.0  1209.0           658.0  40.0    100.0   \n",
       "\n",
       "   Added water  superplasticizer alkaline ratio molarity timecure temp cure  \\\n",
       "0          0.0               0.0             CR       CM        A         a   \n",
       "1          0.0               0.0             CR       CM        A         a   \n",
       "2          0.0               0.0             BR       CM        A         a   \n",
       "3          0.0               0.0             BR       CM        A         a   \n",
       "4          0.0               6.0             CR       CM        A         a   \n",
       "\n",
       "        3day  7day  28day  \n",
       "0  16.615385  27.0   40.0  \n",
       "1  19.076923  31.0   47.0  \n",
       "2  15.384615  25.0   43.0  \n",
       "3  17.846154  29.0   54.0  \n",
       "4   6.769231  11.0   25.0  "
      ]
     },
     "execution_count": 3,
     "metadata": {},
     "output_type": "execute_result"
    }
   ],
   "source": [
    "df.head()"
   ]
  },
  {
   "cell_type": "code",
   "execution_count": 5,
   "metadata": {},
   "outputs": [
    {
     "data": {
      "text/plain": [
       "reference             int64\n",
       "flyash              float64\n",
       "ggbs                float64\n",
       "CA                  float64\n",
       "Fine aggregate      float64\n",
       "NaOH                float64\n",
       "Na2SiO3             float64\n",
       "Added water         float64\n",
       "superplasticizer    float64\n",
       "alkaline ratio       object\n",
       "molarity             object\n",
       "timecure             object\n",
       "temp cure            object\n",
       "3day                float64\n",
       "7day                float64\n",
       "28day               float64\n",
       "dtype: object"
      ]
     },
     "execution_count": 5,
     "metadata": {},
     "output_type": "execute_result"
    }
   ],
   "source": [
    "#check for datatypes \n",
    "df.dtypes\n",
    "#there are four categorical var alkaline ratio ,molarity ,timecure,temp cure...rest all are continous "
   ]
  },
  {
   "cell_type": "code",
   "execution_count": 6,
   "metadata": {},
   "outputs": [
    {
     "data": {
      "text/plain": [
       "reference           0\n",
       "flyash              0\n",
       "ggbs                0\n",
       "CA                  0\n",
       "Fine aggregate      0\n",
       "NaOH                0\n",
       "Na2SiO3             0\n",
       "Added water         0\n",
       "superplasticizer    0\n",
       "alkaline ratio      0\n",
       "molarity            0\n",
       "timecure            0\n",
       "temp cure           0\n",
       "3day                0\n",
       "7day                0\n",
       "28day               0\n",
       "dtype: int64"
      ]
     },
     "execution_count": 6,
     "metadata": {},
     "output_type": "execute_result"
    }
   ],
   "source": [
    "#check for mssing values \n",
    "df.isnull().sum() \n",
    "#no missing vlues "
   ]
  },
  {
   "cell_type": "code",
   "execution_count": 8,
   "metadata": {},
   "outputs": [
    {
     "data": {
      "text/plain": [
       "(376, 16)"
      ]
     },
     "execution_count": 8,
     "metadata": {},
     "output_type": "execute_result"
    }
   ],
   "source": [
    "#shape of df \n",
    "df.shape"
   ]
  },
  {
   "cell_type": "code",
   "execution_count": 10,
   "metadata": {},
   "outputs": [
    {
     "data": {
      "text/plain": [
       "<matplotlib.axes._subplots.AxesSubplot at 0x4b43510>"
      ]
     },
     "execution_count": 10,
     "metadata": {},
     "output_type": "execute_result"
    },
    {
     "data": {
      "image/png": "[encoded data removed]",
      "text/plain": [
       "<Figure size 432x288 with 1 Axes>"
      ]
     },
     "metadata": {
      "needs_background": "light"
     },
     "output_type": "display_data"
    }
   ],
   "source": [
    "#univariate analysis for \n",
    "df['reference'].hist(bins=50)"
   ]
  },
  {
   "cell_type": "code",
   "execution_count": 11,
   "metadata": {},
   "outputs": [
    {
     "data": {
      "text/plain": [
       "0    28\n",
       "dtype: int64"
      ]
     },
     "execution_count": 11,
     "metadata": {},
     "output_type": "execute_result"
    }
   ],
   "source": [
    "df['reference'].mode() #we can see 28 is most repeated"
   ]
  },
  {
   "cell_type": "code",
   "execution_count": 13,
   "metadata": {},
   "outputs": [
    {
     "data": {
      "text/plain": [
       "(<matplotlib.axes._subplots.AxesSubplot at 0xda743d0>,\n",
       " 0    CR\n",
       " dtype: object)"
      ]
     },
     "execution_count": 13,
     "metadata": {},
     "output_type": "execute_result"
    },
    {
     "data": {
      "image/png": "[encoded data removed]",
      "text/plain": [
       "<Figure size 432x288 with 1 Axes>"
      ]
     },
     "metadata": {
      "needs_background": "light"
     },
     "output_type": "display_data"
    }
   ],
   "source": [
    "#Univariate analysis of alkaline raio(categorical vvariable) \n",
    "df['alkaline ratio'].hist(),df['alkaline ratio'].mode()"
   ]
  },
  {
   "cell_type": "code",
   "execution_count": 19,
   "metadata": {},
   "outputs": [
    {
     "data": {
      "text/plain": [
       "(0    BM\n",
       " dtype: object,\n",
       " <matplotlib.axes._subplots.AxesSubplot at 0xdbd2ab0>)"
      ]
     },
     "execution_count": 19,
     "metadata": {},
     "output_type": "execute_result"
    },
    {
     "data": {
      "image/png": "[encoded data removed]",
      "text/plain": [
       "<Figure size 432x288 with 1 Axes>"
      ]
     },
     "metadata": {
      "needs_background": "light"
     },
     "output_type": "display_data"
    }
   ],
   "source": [
    "df['molarity'].mode(),df['molarity'].hist()\n",
    "#Bm is used mosst frequentlty as moalrity"
   ]
  },
  {
   "cell_type": "code",
   "execution_count": 22,
   "metadata": {},
   "outputs": [
    {
     "data": {
      "text/plain": [
       "A    202\n",
       "D    153\n",
       "B      8\n",
       "E      7\n",
       "C      6\n",
       "Name: timecure, dtype: int64"
      ]
     },
     "execution_count": 22,
     "metadata": {},
     "output_type": "execute_result"
    },
    {
     "data": {
      "image/png": "[encoded data removed]",
      "text/plain": [
       "<Figure size 432x288 with 1 Axes>"
      ]
     },
     "metadata": {
      "needs_background": "light"
     },
     "output_type": "display_data"
    }
   ],
   "source": [
    "df['timecure'].mode(),df['timecure'].hist()\n",
    "df['timecure'].value_counts()"
   ]
  },
  {
   "cell_type": "code",
   "execution_count": 24,
   "metadata": {},
   "outputs": [
    {
     "data": {
      "text/plain": [
       "(a    206\n",
       " d    144\n",
       " b     10\n",
       " h      8\n",
       " e      6\n",
       " f      2\n",
       " Name: temp cure, dtype: int64,\n",
       " <matplotlib.axes._subplots.AxesSubplot at 0xf1c0d30>)"
      ]
     },
     "execution_count": 24,
     "metadata": {},
     "output_type": "execute_result"
    },
    {
     "data": {
      "image/png": "[encoded data removed]",
      "text/plain": [
       "<Figure size 432x288 with 1 Axes>"
      ]
     },
     "metadata": {
      "needs_background": "light"
     },
     "output_type": "display_data"
    }
   ],
   "source": [
    "df['temp cure'].value_counts(),df['temp cure'].hist()\n",
    "#mode is a "
   ]
  },
  {
   "cell_type": "markdown",
   "metadata": {},
   "source": [
    "# Model prediction "
   ]
  },
  {
   "cell_type": "code",
   "execution_count": 46,
   "metadata": {},
   "outputs": [],
   "source": [
    "import sklearn\n",
    "#we font have any categorical var so no need to use dummies "
   ]
  },
  {
   "cell_type": "code",
   "execution_count": 47,
   "metadata": {},
   "outputs": [],
   "source": [
    "from sklearn.preprocessing import MinMaxScaler\n",
    "mms=MinMaxScaler()"
   ]
  },
  {
   "cell_type": "markdown",
   "metadata": {},
   "source": [
    "we will use ensemble model Random forest to predict"
   ]
  },
  {
   "cell_type": "code",
   "execution_count": 48,
   "metadata": {},
   "outputs": [
    {
     "data": {
      "text/html": [
       "<div>\n",
       "<style scoped>\n",
       "    .dataframe tbody tr th:only-of-type {\n",
       "        vertical-align: middle;\n",
       "    }\n",
       "\n",
       "    .dataframe tbody tr th {\n",
       "        vertical-align: top;\n",
       "    }\n",
       "\n",
       "    .dataframe thead th {\n",
       "        text-align: right;\n",
       "    }\n",
       "</style>\n",
       "<table border=\"1\" class=\"dataframe\">\n",
       "  <thead>\n",
       "    <tr style=\"text-align: right;\">\n",
       "      <th></th>\n",
       "      <th>reference</th>\n",
       "      <th>flyash</th>\n",
       "      <th>ggbs</th>\n",
       "      <th>CA</th>\n",
       "      <th>Fine aggregate</th>\n",
       "      <th>NaOH</th>\n",
       "      <th>Na2SiO3</th>\n",
       "      <th>Added water</th>\n",
       "      <th>superplasticizer</th>\n",
       "      <th>3day</th>\n",
       "      <th>...</th>\n",
       "      <th>timecure_B</th>\n",
       "      <th>timecure_C</th>\n",
       "      <th>timecure_D</th>\n",
       "      <th>timecure_E</th>\n",
       "      <th>temp cure_a</th>\n",
       "      <th>temp cure_b</th>\n",
       "      <th>temp cure_d</th>\n",
       "      <th>temp cure_e</th>\n",
       "      <th>temp cure_f</th>\n",
       "      <th>temp cure_h</th>\n",
       "    </tr>\n",
       "  </thead>\n",
       "  <tbody>\n",
       "    <tr>\n",
       "      <th>0</th>\n",
       "      <td>1</td>\n",
       "      <td>360.0</td>\n",
       "      <td>40.0</td>\n",
       "      <td>1209.0</td>\n",
       "      <td>651.0</td>\n",
       "      <td>45.7</td>\n",
       "      <td>114.3</td>\n",
       "      <td>0.0</td>\n",
       "      <td>0.0</td>\n",
       "      <td>16.615385</td>\n",
       "      <td>...</td>\n",
       "      <td>0</td>\n",
       "      <td>0</td>\n",
       "      <td>0</td>\n",
       "      <td>0</td>\n",
       "      <td>1</td>\n",
       "      <td>0</td>\n",
       "      <td>0</td>\n",
       "      <td>0</td>\n",
       "      <td>0</td>\n",
       "      <td>0</td>\n",
       "    </tr>\n",
       "    <tr>\n",
       "      <th>1</th>\n",
       "      <td>1</td>\n",
       "      <td>320.0</td>\n",
       "      <td>80.0</td>\n",
       "      <td>1209.0</td>\n",
       "      <td>651.0</td>\n",
       "      <td>45.7</td>\n",
       "      <td>114.3</td>\n",
       "      <td>0.0</td>\n",
       "      <td>0.0</td>\n",
       "      <td>19.076923</td>\n",
       "      <td>...</td>\n",
       "      <td>0</td>\n",
       "      <td>0</td>\n",
       "      <td>0</td>\n",
       "      <td>0</td>\n",
       "      <td>1</td>\n",
       "      <td>0</td>\n",
       "      <td>0</td>\n",
       "      <td>0</td>\n",
       "      <td>0</td>\n",
       "      <td>0</td>\n",
       "    </tr>\n",
       "    <tr>\n",
       "      <th>2</th>\n",
       "      <td>1</td>\n",
       "      <td>360.0</td>\n",
       "      <td>40.0</td>\n",
       "      <td>1209.0</td>\n",
       "      <td>651.0</td>\n",
       "      <td>64.0</td>\n",
       "      <td>96.0</td>\n",
       "      <td>0.0</td>\n",
       "      <td>0.0</td>\n",
       "      <td>15.384615</td>\n",
       "      <td>...</td>\n",
       "      <td>0</td>\n",
       "      <td>0</td>\n",
       "      <td>0</td>\n",
       "      <td>0</td>\n",
       "      <td>1</td>\n",
       "      <td>0</td>\n",
       "      <td>0</td>\n",
       "      <td>0</td>\n",
       "      <td>0</td>\n",
       "      <td>0</td>\n",
       "    </tr>\n",
       "    <tr>\n",
       "      <th>3</th>\n",
       "      <td>1</td>\n",
       "      <td>320.0</td>\n",
       "      <td>80.0</td>\n",
       "      <td>1209.0</td>\n",
       "      <td>651.0</td>\n",
       "      <td>64.0</td>\n",
       "      <td>96.0</td>\n",
       "      <td>0.0</td>\n",
       "      <td>0.0</td>\n",
       "      <td>17.846154</td>\n",
       "      <td>...</td>\n",
       "      <td>0</td>\n",
       "      <td>0</td>\n",
       "      <td>0</td>\n",
       "      <td>0</td>\n",
       "      <td>1</td>\n",
       "      <td>0</td>\n",
       "      <td>0</td>\n",
       "      <td>0</td>\n",
       "      <td>0</td>\n",
       "      <td>0</td>\n",
       "    </tr>\n",
       "    <tr>\n",
       "      <th>4</th>\n",
       "      <td>1</td>\n",
       "      <td>400.0</td>\n",
       "      <td>0.0</td>\n",
       "      <td>1209.0</td>\n",
       "      <td>658.0</td>\n",
       "      <td>40.0</td>\n",
       "      <td>100.0</td>\n",
       "      <td>0.0</td>\n",
       "      <td>6.0</td>\n",
       "      <td>6.769231</td>\n",
       "      <td>...</td>\n",
       "      <td>0</td>\n",
       "      <td>0</td>\n",
       "      <td>0</td>\n",
       "      <td>0</td>\n",
       "      <td>1</td>\n",
       "      <td>0</td>\n",
       "      <td>0</td>\n",
       "      <td>0</td>\n",
       "      <td>0</td>\n",
       "      <td>0</td>\n",
       "    </tr>\n",
       "  </tbody>\n",
       "</table>\n",
       "<p>5 rows × 29 columns</p>\n",
       "</div>"
      ],
      "text/plain": [
       "   reference  flyash   ggbs      CA  Fine aggregate  NaOH  Na2SiO3  \\\n",
       "0          1    360.0  40.0  1209.0           651.0  45.7    114.3   \n",
       "1          1    320.0  80.0  1209.0           651.0  45.7    114.3   \n",
       "2          1    360.0  40.0  1209.0           651.0  64.0     96.0   \n",
       "3          1    320.0  80.0  1209.0           651.0  64.0     96.0   \n",
       "4          1    400.0   0.0  1209.0           658.0  40.0    100.0   \n",
       "\n",
       "   Added water  superplasticizer       3day  ...  timecure_B  timecure_C  \\\n",
       "0          0.0               0.0  16.615385  ...           0           0   \n",
       "1          0.0               0.0  19.076923  ...           0           0   \n",
       "2          0.0               0.0  15.384615  ...           0           0   \n",
       "3          0.0               0.0  17.846154  ...           0           0   \n",
       "4          0.0               6.0   6.769231  ...           0           0   \n",
       "\n",
       "   timecure_D  timecure_E  temp cure_a  temp cure_b  temp cure_d  temp cure_e  \\\n",
       "0           0           0            1            0            0            0   \n",
       "1           0           0            1            0            0            0   \n",
       "2           0           0            1            0            0            0   \n",
       "3           0           0            1            0            0            0   \n",
       "4           0           0            1            0            0            0   \n",
       "\n",
       "   temp cure_f  temp cure_h  \n",
       "0            0            0  \n",
       "1            0            0  \n",
       "2            0            0  \n",
       "3            0            0  \n",
       "4            0            0  \n",
       "\n",
       "[5 rows x 29 columns]"
      ]
     },
     "execution_count": 48,
     "metadata": {},
     "output_type": "execute_result"
    }
   ],
   "source": [
    "#since there are categorical variables we will be using get dummiess to convert it into dummies\n",
    "df=pd.get_dummies(df)\n",
    "df.head()"
   ]
  },
  {
   "cell_type": "code",
   "execution_count": 49,
   "metadata": {},
   "outputs": [
    {
     "data": {
      "text/plain": [
       "reference              int64\n",
       "flyash               float64\n",
       "ggbs                 float64\n",
       "CA                   float64\n",
       "Fine aggregate       float64\n",
       "NaOH                 float64\n",
       "Na2SiO3              float64\n",
       "Added water          float64\n",
       "superplasticizer     float64\n",
       "3day                 float64\n",
       "7day                 float64\n",
       "28day                float64\n",
       "alkaline ratio_AR      uint8\n",
       "alkaline ratio_BR      uint8\n",
       "alkaline ratio_CR      uint8\n",
       "molarity_AM            uint8\n",
       "molarity_BM            uint8\n",
       "molarity_CM            uint8\n",
       "timecure_A             uint8\n",
       "timecure_B             uint8\n",
       "timecure_C             uint8\n",
       "timecure_D             uint8\n",
       "timecure_E             uint8\n",
       "temp cure_a            uint8\n",
       "temp cure_b            uint8\n",
       "temp cure_d            uint8\n",
       "temp cure_e            uint8\n",
       "temp cure_f            uint8\n",
       "temp cure_h            uint8\n",
       "dtype: object"
      ]
     },
     "execution_count": 49,
     "metadata": {},
     "output_type": "execute_result"
    }
   ],
   "source": [
    "df.dtypes"
   ]
  },
  {
   "cell_type": "markdown",
   "metadata": {},
   "source": [
    "So we can see that all the categorical variables are now dummies either 0 or 1 and they dont have much values so we won't get too many features "
   ]
  },
  {
   "cell_type": "code",
   "execution_count": 50,
   "metadata": {},
   "outputs": [],
   "source": [
    "x=df.drop(['28day','7day','3day'],axis=1)\n",
    "y1=df['3day']\n",
    "y2=df['7day']\n",
    "y3=df['28day']"
   ]
  },
  {
   "cell_type": "markdown",
   "metadata": {},
   "source": [
    "#### predict 3day "
   ]
  },
  {
   "cell_type": "code",
   "execution_count": 51,
   "metadata": {},
   "outputs": [
    {
     "data": {
      "text/plain": [
       "array([[0.        , 0.69998056, 0.07389618, ..., 0.        , 0.        ,\n",
       "        0.        ],\n",
       "       [0.        , 0.62220494, 0.14779235, ..., 0.        , 0.        ,\n",
       "        0.        ],\n",
       "       [0.        , 0.69998056, 0.07389618, ..., 0.        , 0.        ,\n",
       "        0.        ],\n",
       "       ...,\n",
       "       [1.        , 0.41804394, 0.39719195, ..., 0.        , 0.        ,\n",
       "        0.        ],\n",
       "       [1.        , 0.4277659 , 0.40642897, ..., 0.        , 0.        ,\n",
       "        0.        ],\n",
       "       [1.        , 0.43748785, 0.41566599, ..., 0.        , 0.        ,\n",
       "        0.        ]])"
      ]
     },
     "execution_count": 51,
     "metadata": {},
     "output_type": "execute_result"
    }
   ],
   "source": [
    "mms.fit_transform(x,y1)"
   ]
  },
  {
   "cell_type": "code",
   "execution_count": 56,
   "metadata": {},
   "outputs": [],
   "source": [
    "from sklearn.model_selection import train_test_split\n",
    "train_x,test_x,train_y1,test_y1=train_test_split(x,y1,random_state=45)"
   ]
  },
  {
   "cell_type": "code",
   "execution_count": 57,
   "metadata": {},
   "outputs": [],
   "source": [
    "from sklearn.ensemble import RandomForestRegressor \n"
   ]
  },
  {
   "cell_type": "code",
   "execution_count": 109,
   "metadata": {},
   "outputs": [
    {
     "data": {
      "text/plain": [
       "RandomForestRegressor(bootstrap=True, ccp_alpha=0.0, criterion='mse',\n",
       "                      max_depth=10, max_features='auto', max_leaf_nodes=None,\n",
       "                      max_samples=None, min_impurity_decrease=0.0,\n",
       "                      min_impurity_split=None, min_samples_leaf=1,\n",
       "                      min_samples_split=2, min_weight_fraction_leaf=0.0,\n",
       "                      n_estimators=100, n_jobs=None, oob_score=False,\n",
       "                      random_state=None, verbose=0, warm_start=False)"
      ]
     },
     "execution_count": 109,
     "metadata": {},
     "output_type": "execute_result"
    }
   ],
   "source": [
    "rfr=RandomForestRegressor(max_depth=10,min_samples_split=2)\n",
    "rfr.fit(train_x,train_y1)"
   ]
  },
  {
   "cell_type": "code",
   "execution_count": 110,
   "metadata": {},
   "outputs": [
    {
     "name": "stdout",
     "output_type": "stream",
     "text": [
      "Train score for 3day: 0.9618196824458004\n",
      "test score for 3day: 0.7901235026224893\n"
     ]
    },
    {
     "data": {
      "text/plain": [
       "(None, None)"
      ]
     },
     "execution_count": 110,
     "metadata": {},
     "output_type": "execute_result"
    }
   ],
   "source": [
    "from sklearn.metrics import r2_score\n",
    "pred_train = rfr.predict(train_x)\n",
    "train_score = r2_score(train_y1,pred_train)\n",
    "pred_test = rfr.predict(test_x)\n",
    "valid_score1=r2_score(test_y1,pred_test)\n",
    "print('Train score for 3day:',train_score),print(\"test score for 3day:\",valid_score1)"
   ]
  },
  {
   "cell_type": "markdown",
   "metadata": {},
   "source": [
    "### Better the r-squared better the model so validation score or test score is quite good for 3day"
   ]
  },
  {
   "cell_type": "code",
   "execution_count": 111,
   "metadata": {},
   "outputs": [
    {
     "name": "stdout",
     "output_type": "stream",
     "text": [
      "Training score: 0.10683839413291377\n",
      "Test score: 0.17939844284246\n"
     ]
    }
   ],
   "source": [
    "\n",
    "\n",
    "#mean sqare log eror \n",
    "from sklearn.metrics import mean_squared_log_error\n",
    "pred_train = rfr.predict(train_x)\n",
    "train_score = np.sqrt(mean_squared_log_error(train_y1,pred_train))\n",
    "\n",
    "pred_test = rfr.predict(test_x)\n",
    "valid_score4=np.sqrt(mean_squared_log_error(test_y1,pred_test))\n",
    "\n",
    "print('Training score:', train_score)\n",
    "print('Test score:', valid_score4)"
   ]
  },
  {
   "cell_type": "markdown",
   "metadata": {},
   "source": [
    "### lower the value of msle better the model"
   ]
  },
  {
   "cell_type": "markdown",
   "metadata": {},
   "source": [
    "## predict 7day"
   ]
  },
  {
   "cell_type": "code",
   "execution_count": 112,
   "metadata": {},
   "outputs": [
    {
     "data": {
      "text/plain": [
       "RandomForestRegressor(bootstrap=True, ccp_alpha=0.0, criterion='mse',\n",
       "                      max_depth=10, max_features='auto', max_leaf_nodes=None,\n",
       "                      max_samples=None, min_impurity_decrease=0.0,\n",
       "                      min_impurity_split=None, min_samples_leaf=1,\n",
       "                      min_samples_split=2, min_weight_fraction_leaf=0.0,\n",
       "                      n_estimators=100, n_jobs=None, oob_score=False,\n",
       "                      random_state=None, verbose=0, warm_start=False)"
      ]
     },
     "execution_count": 112,
     "metadata": {},
     "output_type": "execute_result"
    }
   ],
   "source": [
    "mms.fit_transform(x,y2)\n",
    "\n",
    "from sklearn.model_selection import train_test_split\n",
    "train_x,test_x,train_y2,test_y2=train_test_split(x,y2,random_state=45)\n",
    "\n",
    "rfr=RandomForestRegressor(max_depth=10,min_samples_split=2)\n",
    "rfr.fit(train_x,train_y2)"
   ]
  },
  {
   "cell_type": "code",
   "execution_count": 113,
   "metadata": {},
   "outputs": [
    {
     "name": "stdout",
     "output_type": "stream",
     "text": [
      "Train score for 7day: 0.9651396582298555\n",
      "test score for 7day: 0.8150774053522405\n"
     ]
    },
    {
     "data": {
      "text/plain": [
       "(None, None)"
      ]
     },
     "execution_count": 113,
     "metadata": {},
     "output_type": "execute_result"
    }
   ],
   "source": [
    "#r -squared\n",
    "pred_train = rfr.predict(train_x)\n",
    "train_score = r2_score(train_y2,pred_train)\n",
    "pred_test = rfr.predict(test_x)\n",
    "valid_score2=r2_score(test_y2,pred_test)\n",
    "print('Train score for 7day:',train_score),print(\"test score for 7day:\",valid_score2)"
   ]
  },
  {
   "cell_type": "markdown",
   "metadata": {},
   "source": [
    "#### Better the r2_score  better model"
   ]
  },
  {
   "cell_type": "code",
   "execution_count": 114,
   "metadata": {},
   "outputs": [
    {
     "name": "stdout",
     "output_type": "stream",
     "text": [
      "Training score for 7day: 0.09735596574385603\n",
      "Test score for 7 day: 0.15848588998995836\n"
     ]
    }
   ],
   "source": [
    "from sklearn.metrics import mean_squared_log_error\n",
    "pred_train = rfr.predict(train_x)\n",
    "train_score = np.sqrt(mean_squared_log_error(train_y2,pred_train))\n",
    "\n",
    "pred_test = rfr.predict(test_x)\n",
    "valid_score5=np.sqrt(mean_squared_log_error(test_y2,pred_test))\n",
    "\n",
    "print('Training score for 7day:', train_score)\n",
    "print('Test score for 7 day:', valid_score5)"
   ]
  },
  {
   "cell_type": "markdown",
   "metadata": {},
   "source": [
    "#### lesser the msle score better the model"
   ]
  },
  {
   "cell_type": "code",
   "execution_count": null,
   "metadata": {},
   "outputs": [],
   "source": []
  },
  {
   "cell_type": "markdown",
   "metadata": {},
   "source": [
    "# Predict for 28 day"
   ]
  },
  {
   "cell_type": "code",
   "execution_count": 115,
   "metadata": {},
   "outputs": [
    {
     "data": {
      "text/plain": [
       "RandomForestRegressor(bootstrap=True, ccp_alpha=0.0, criterion='mse',\n",
       "                      max_depth=10, max_features='auto', max_leaf_nodes=None,\n",
       "                      max_samples=None, min_impurity_decrease=0.0,\n",
       "                      min_impurity_split=None, min_samples_leaf=1,\n",
       "                      min_samples_split=2, min_weight_fraction_leaf=0.0,\n",
       "                      n_estimators=100, n_jobs=None, oob_score=False,\n",
       "                      random_state=None, verbose=0, warm_start=False)"
      ]
     },
     "execution_count": 115,
     "metadata": {},
     "output_type": "execute_result"
    }
   ],
   "source": [
    "mms.fit_transform(x,y3)\n",
    "\n",
    "from sklearn.model_selection import train_test_split\n",
    "train_x,test_x,train_y3,test_y3=train_test_split(x,y3,random_state=45)\n",
    "\n",
    "rfr=RandomForestRegressor(max_depth=10,min_samples_split=2)\n",
    "rfr.fit(train_x,train_y3)"
   ]
  },
  {
   "cell_type": "code",
   "execution_count": 116,
   "metadata": {},
   "outputs": [
    {
     "name": "stdout",
     "output_type": "stream",
     "text": [
      "Train score for 28day: 0.9758958121785308\n",
      "test score for 28day: 0.8419466741970201\n"
     ]
    },
    {
     "data": {
      "text/plain": [
       "(None, None)"
      ]
     },
     "execution_count": 116,
     "metadata": {},
     "output_type": "execute_result"
    }
   ],
   "source": [
    "#r -squared\n",
    "pred_train = rfr.predict(train_x)\n",
    "train_score = r2_score(train_y3,pred_train)\n",
    "pred_test = rfr.predict(test_x)\n",
    "valid_score3=r2_score(test_y3,pred_test)\n",
    "print('Train score for 28day:',train_score),print(\"test score for 28day:\",valid_score3)"
   ]
  },
  {
   "cell_type": "markdown",
   "metadata": {},
   "source": [
    "#### Better r2 scoree better model "
   ]
  },
  {
   "cell_type": "code",
   "execution_count": 117,
   "metadata": {},
   "outputs": [
    {
     "name": "stdout",
     "output_type": "stream",
     "text": [
      "Training score for 28 day: 0.09271940625227267\n",
      "Test score for 28 day: 0.14514758157372637\n"
     ]
    }
   ],
   "source": [
    "from sklearn.metrics import mean_squared_log_error\n",
    "pred_train = rfr.predict(train_x)\n",
    "train_score = np.sqrt(mean_squared_log_error(train_y3,pred_train))\n",
    "\n",
    "pred_test = rfr.predict(test_x)\n",
    "valid_score6=np.sqrt(mean_squared_log_error(test_y3,pred_test))\n",
    "\n",
    "print('Training score for 28 day:', train_score)\n",
    "print('Test score for 28 day:', valid_score6)"
   ]
  },
  {
   "cell_type": "markdown",
   "metadata": {},
   "source": [
    "#### Lower msle better model"
   ]
  },
  {
   "cell_type": "code",
   "execution_count": null,
   "metadata": {},
   "outputs": [],
   "source": []
  },
  {
   "cell_type": "markdown",
   "metadata": {},
   "source": [
    "## lets comapre the score for 3day ,7day,  28day prediction r2_score"
   ]
  },
  {
   "cell_type": "code",
   "execution_count": 118,
   "metadata": {},
   "outputs": [],
   "source": [
    "value=[valid_score1,valid_score2,valid_score3]\n",
    "name=['3day','7day','28day']"
   ]
  },
  {
   "cell_type": "code",
   "execution_count": 119,
   "metadata": {},
   "outputs": [],
   "source": [
    "df2=pd.DataFrame(index=name,data=value)\n"
   ]
  },
  {
   "cell_type": "code",
   "execution_count": 120,
   "metadata": {},
   "outputs": [
    {
     "data": {
      "text/plain": [
       "<matplotlib.axes._subplots.AxesSubplot at 0x5deb550>"
      ]
     },
     "execution_count": 120,
     "metadata": {},
     "output_type": "execute_result"
    },
    {
     "data": {
      "image/png": "[encoded data removed]",
      "text/plain": [
       "<Figure size 432x288 with 1 Axes>"
      ]
     },
     "metadata": {
      "needs_background": "light"
     },
     "output_type": "display_data"
    }
   ],
   "source": [
    "df2.plot(kind='bar')\n"
   ]
  },
  {
   "cell_type": "markdown",
   "metadata": {},
   "source": [
    "# lets check which has lower MSLE score among these test score "
   ]
  },
  {
   "cell_type": "code",
   "execution_count": 121,
   "metadata": {},
   "outputs": [
    {
     "data": {
      "text/plain": [
       "<matplotlib.axes._subplots.AxesSubplot at 0x5e10050>"
      ]
     },
     "execution_count": 121,
     "metadata": {},
     "output_type": "execute_result"
    },
    {
     "data": {
      "image/png": "[encoded data removed]",
      "text/plain": [
       "<Figure size 432x288 with 1 Axes>"
      ]
     },
     "metadata": {
      "needs_background": "light"
     },
     "output_type": "display_data"
    }
   ],
   "source": [
    "value=[valid_score4,valid_score5,valid_score6]\n",
    "name=['3day','7day','28day']\n",
    "df3=pd.DataFrame(index=name,data=value)\n",
    "df3.plot(kind='bar')"
   ]
  },
  {
   "cell_type": "markdown",
   "metadata": {},
   "source": [
    "### Here we can see the values of 28day target var is predicted better over 3day and 7day. As we can see there is low Mean squared relative error and high R2_score "
   ]
  },
  {
   "cell_type": "code",
   "execution_count": null,
   "metadata": {},
   "outputs": [],
   "source": []
  }
 ],
 "metadata": {
  "kernelspec": {
   "display_name": "Python 3",
   "language": "python",
   "name": "python3"
  },
  "language_info": {
   "codemirror_mode": {
    "name": "ipython",
    "version": 3
   },
   "file_extension": ".py",
   "mimetype": "text/x-python",
   "name": "python",
   "nbconvert_exporter": "python",
   "pygments_lexer": "ipython3",
   "version": "3.7.3"
  }
 },
 "nbformat": 4,
 "nbformat_minor": 4
}
